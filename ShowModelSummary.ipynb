{
  "nbformat": 4,
  "nbformat_minor": 0,
  "metadata": {
    "colab": {
      "name": "ShowModelSummary.ipynb",
      "provenance": []
    },
    "kernelspec": {
      "name": "python3",
      "display_name": "Python 3"
    },
    "language_info": {
      "name": "python"
    }
  },
  "cells": [
    {
      "cell_type": "markdown",
      "metadata": {
        "id": "C2YbBbLVdZnP"
      },
      "source": [
        "## This notebook shows the architecture of your model"
      ]
    },
    {
      "cell_type": "markdown",
      "metadata": {
        "id": "XMvdd3Vpdq3W"
      },
      "source": [
        "User must enter height and width of images as *nh* and *nw*, as well as number of channels, *nc*."
      ]
    },
    {
      "cell_type": "code",
      "metadata": {
        "colab": {
          "base_uri": "https://localhost:8080/"
        },
        "id": "D1vWkDlqdUVM",
        "outputId": "140b1417-63a0-423a-e205-7810611ca935"
      },
      "source": [
        "nw=171\n",
        "nh=61\n",
        "nc=1\n",
        "print(f'Images are {nh} pixels high, and {nw} pixels wide.')\n",
        "print(f'The Number of color channels is {nc}.')"
      ],
      "execution_count": 1,
      "outputs": [
        {
          "output_type": "stream",
          "name": "stdout",
          "text": [
            "Images are 61 pixels high, and 171 pixels wide\n",
            "The Number of color channels is 1\n"
          ]
        }
      ]
    }
  ]
}